{
 "cells": [
  {
   "cell_type": "code",
   "execution_count": 4,
   "id": "5d4839a0-dcbd-4ca0-8bd0-e2e0fd6b4909",
   "metadata": {},
   "outputs": [
    {
     "data": {
      "text/plain": [
       "True"
      ]
     },
     "execution_count": 4,
     "metadata": {},
     "output_type": "execute_result"
    }
   ],
   "source": [
    "import pandas as pd\n",
    "from sqlalchemy import create_engine\n",
    "from dotenv import load_dotenv\n",
    "import os\n",
    "\n",
    "load_dotenv()"
   ]
  },
  {
   "cell_type": "code",
   "execution_count": 5,
   "id": "8938aca6-2ebe-46f4-806c-0ba4f799dea0",
   "metadata": {},
   "outputs": [],
   "source": [
    "con = create_engine(f\"{os.environ['DATABASE']}://{os.environ['DB_USER']}:{os.environ['DB_PASSWORD']}@{os.environ['HOST']}:{os.environ['PORT']}/{os.environ['DB_NAME']}\")"
   ]
  },
  {
   "cell_type": "code",
   "execution_count": 6,
   "id": "952b877e-378a-4f3e-9add-b0d97c67f4d1",
   "metadata": {},
   "outputs": [],
   "source": [
    "tokenized_texts = pd.read_sql_table('tokenized_texts', con)\n",
    "sentences = pd.read_sql_table('sentences', con)"
   ]
  },
  {
   "cell_type": "code",
   "execution_count": null,
   "id": "3eed3d49-7062-4b41-83d5-ea012c3d15b4",
   "metadata": {},
   "outputs": [],
   "source": [
    "marker_sentences = tokenized_texts.groupby(['text_id', 'sentence_id', 'task_id', 'text_year']) \\\n",
    "                .filter(lambda x: x['lemma'].isin(['never', 'ever', 'always']).any())"
   ]
  },
  {
   "cell_type": "code",
   "execution_count": null,
   "id": "86f38e45-ac63-4b12-aabe-9316b79022c5",
   "metadata": {},
   "outputs": [],
   "source": [
    "MARKERS = [r'\\bnever\\b', r'\\bever\\b', r'\\balways\\b', r'\\bjust\\b', r'\\bby now\\b', r'\\bnowadays\\b', r'\\btoday\\b', r'\\bin all my life\\b', \n",
    "           r'\\bmy whole life\\b', r'\\blately\\b', r'\\brecently\\b', r'\\boften\\b', r'\\bbefore now\\b', \n",
    "           r'\\bat present\\b', r'\\bup till now\\b', r'\\bso far\\b', r'\\byet\\b', r'\\balready\\b', \n",
    "           r'(?:\\bduring\\b|\\bin\\b|\\bover the\\b|\\bthese past\\b|\\blast\\b|\\brecent\\b)\\s\\d', r'\\bsince\\b', r'\\bfor many\\s\\d']\n",
    "\n",
    "marker_sentences = sentences[sentences['sentence_tokens'].str.contains('|'.join(MARKERS))]\n",
    "marker_sentences['splitted_spacy_poses'] = marker_sentences['sentence_token_spacy_poses'].str.split(' ')\n",
    "marker_sentences['splitted_spacy_tags'] = marker_sentences['sentence_token_spacy_tags'].str.split(' ')\n",
    "marker_sentences['splitted_lemmas'] = marker_sentences['sentence_lemmas'].str.split(' ')\n",
    "marker_sentences['splitted_poses'] = marker_sentences['sentence_poses'].str.split(' ')"
   ]
  },
  {
   "cell_type": "code",
   "execution_count": null,
   "id": "2063f454-d036-45e0-84cb-0e3379ff7219",
   "metadata": {},
   "outputs": [],
   "source": [
    "def match_pp(x, window=5):\n",
    "    if 'have' in x['splitted_lemmas']:\n",
    "        if x['splitted_spacy_tags'] is not None and 'VBN' in x['splitted_spacy_tags']:\n",
    "            vbn_idx = x['splitted_spacy_tags'].index('VBN')\n",
    "        elif 'VBN' in x['splitted_poses']:\n",
    "            vbn_idx = x['splitted_poses'].index('VBN')\n",
    "        else:\n",
    "            return False\n",
    "        return 'have' in x['splitted_lemmas'][max(0, vbn_idx-window):vbn_idx]\n",
    "    return False\n",
    "\n",
    "marker_sentences['has_pp'] = marker_sentences.apply(match_pp, axis=1)"
   ]
  },
  {
   "cell_type": "code",
   "execution_count": 169,
   "id": "035bbaf1-f4a6-4def-80be-e644aaa6f6b5",
   "metadata": {},
   "outputs": [],
   "source": [
    "marker_sentences[['sentence_tokens', 'has_pp']].to_excel('marker_sentences.xlsx', index=False)"
   ]
  }
 ],
 "metadata": {
  "kernelspec": {
   "display_name": "Python 3 (ipykernel)",
   "language": "python",
   "name": "python3"
  },
  "language_info": {
   "codemirror_mode": {
    "name": "ipython",
    "version": 3
   },
   "file_extension": ".py",
   "mimetype": "text/x-python",
   "name": "python",
   "nbconvert_exporter": "python",
   "pygments_lexer": "ipython3",
   "version": "3.9.13"
  }
 },
 "nbformat": 4,
 "nbformat_minor": 5
}
